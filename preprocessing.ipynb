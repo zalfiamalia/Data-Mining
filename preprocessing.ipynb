{
  "nbformat": 4,
  "nbformat_minor": 0,
  "metadata": {
    "colab": {
      "provenance": []
    },
    "kernelspec": {
      "name": "python3",
      "display_name": "Python 3"
    },
    "language_info": {
      "name": "python"
    }
  },
  "cells": [
    {
      "cell_type": "code",
      "execution_count": null,
      "metadata": {
        "id": "EWtEcrCExEHO"
      },
      "outputs": [],
      "source": [
        "import numpy as np\n",
        "import matplotlib.pyplot as plt\n",
        "import pandas as pd "
      ]
    },
    {
      "cell_type": "markdown",
      "source": [
        "Library python Numpy digunakan untuk komputasi matriks . Library python Matplotlib digunakan untuk presentasi data berupa grafik atau plot. Library python Pandas digunakan untuk mengambil atau mengimport data dari sumber luar."
      ],
      "metadata": {
        "id": "jluamTvy9MkA"
      }
    },
    {
      "cell_type": "code",
      "source": [
        "dataset = pd.read_csv('Bullying_2018.csv')\n",
        "x = dataset.iloc[5:6].values \n",
        "y = dataset.iloc[:, -1].values"
      ],
      "metadata": {
        "id": "hfT5k9rvxjcP"
      },
      "execution_count": null,
      "outputs": []
    },
    {
      "cell_type": "markdown",
      "source": [
        "untuk membaca data csv menggunakan variable dataset, library pd untuk membaca dari sumber luar, csv dengan nama file. untuk membagi data, x = atribut reguler, y = label/class"
      ],
      "metadata": {
        "id": "LZaJSkP79Nw9"
      }
    },
    {
      "cell_type": "code",
      "source": [
        "print(x)"
      ],
      "metadata": {
        "colab": {
          "base_uri": "https://localhost:8080/"
        },
        "id": "LKGIeN_u1Lpt",
        "outputId": "60946a4b-dd88-41d1-ddbb-d10ae2d44adc"
      },
      "execution_count": null,
      "outputs": [
        {
          "output_type": "stream",
          "name": "stdout",
          "text": [
            "[['6;No;No;No;13 years old;Male;0 times;1 time;Never;3 or more;0 days;Most of the time;Always;No;No;No;No;No']]\n"
          ]
        }
      ]
    },
    {
      "cell_type": "code",
      "source": [
        "print(y)"
      ],
      "metadata": {
        "colab": {
          "base_uri": "https://localhost:8080/"
        },
        "id": "xdfPLDVh1OcF",
        "outputId": "d5f04ba1-f92f-4941-a9cf-7ec32740f228"
      },
      "execution_count": null,
      "outputs": [
        {
          "output_type": "stream",
          "name": "stdout",
          "text": [
            "['1;Yes;Yes; ;13 years old;Female;0 times;0 times;Always;2;10 or more days;Never;Always;Yes;Yes; ; ; '\n",
            " '2;No;No;No;13 years old;Female;0 times;0 times;Never;3 or more;0 days;Sometimes;Always;No;No; ; ; '\n",
            " '3;No;No;No;14 years old;Male;0 times;0 times;Never;3 or more;0 days;Sometimes;Always;No;No;No;No;No'\n",
            " ...\n",
            " '57093;No;No;No;16 years old;Male;0 times;0 times;Sometimes;3 or more;0 days;Rarely;Sometimes;No;No; ; ; '\n",
            " '57094;No;Yes;No;16 years old;Female;0 times;0 times;Sometimes;2;0 days;Most of the time;Rarely;No;No; ; ; '\n",
            " '57095;No;Yes;Yes;16 years old;Female;0 times;0 times;Always;2;1 or 2 days;Rarely;Never;Yes;Yes;No;No;No']\n"
          ]
        }
      ]
    },
    {
      "cell_type": "code",
      "source": [
        "from sklearn.impute import SimpleImputer\n",
        "imputer = SimpleImputer(missing_values=np.nan, strategy='mean')\n",
        "imputer.fit(y[:, 1:3])\n",
        "y[:,  1:3] = imputer.transform(y[:, 1:3])"
      ],
      "metadata": {
        "id": "lWNCe1ZI9ZnU"
      },
      "execution_count": null,
      "outputs": []
    },
    {
      "cell_type": "markdown",
      "source": [
        "Menambahkan library sklearn\n",
        "• Class SimpleImputer() digunakan untuk mengganti nilai yang\n",
        "kosong dengan mean kolom.\n",
        "• missing_values : nilai data yang digunakan sebagai\n",
        "penanda bahwa nilai aslinya tidak ada (missing); dalam hal\n",
        "ini NaN (np.nan)\n",
        "• strategy : dalam hal ini rata-rata kolom ('mean'), bisa juga\n",
        "menggunakan 'median', 'most_frequent' (modus),\n",
        "atau 'constant’.\n",
        "• Selanjutnya obyek imputer harus di fit berdasarkan kolom yang\n",
        "bersangkutan menggunakan metode fit()"
      ],
      "metadata": {
        "id": "3e-WwtBR9flw"
      }
    },
    {
      "cell_type": "code",
      "source": [
        "from sklearn.compose import ColumnTransformer\n",
        "from sklearn.preprocessing import OneHotEncoder\n",
        "ct = ColumnTransformer(transformers=[('enconder', OneHotEncoder(), [0])], remainder='passthrough')\n",
        "x = np.array(ct.fit_transform(x))  "
      ],
      "metadata": {
        "id": "RinOmO6r375A"
      },
      "execution_count": null,
      "outputs": []
    },
    {
      "cell_type": "markdown",
      "source": [
        "Matrix X yang terbentuk sebelumnya pada kolom\n",
        "Country bertipe string, jadi perlu diubah ke numerik (int\n",
        "atau float).\n",
        "• Gunakan variable\n",
        "dummy OneHotEncoder dan ColumnTransformer"
      ],
      "metadata": {
        "id": "FHwZYL249jfE"
      }
    },
    {
      "cell_type": "code",
      "source": [
        "print(x)"
      ],
      "metadata": {
        "colab": {
          "base_uri": "https://localhost:8080/"
        },
        "id": "lxpXZRx-5U7o",
        "outputId": "9ec56dd0-2d38-4a56-97ba-9589eaaa04ee"
      },
      "execution_count": null,
      "outputs": [
        {
          "output_type": "stream",
          "name": "stdout",
          "text": [
            "[[1.]]\n"
          ]
        }
      ]
    },
    {
      "cell_type": "code",
      "source": [
        "from sklearn.preprocessing import LabelEncoder\n",
        "le = LabelEncoder()\n",
        "y = le.fit_transform(y) "
      ],
      "metadata": {
        "id": "ko06S3jG5bO4"
      },
      "execution_count": null,
      "outputs": []
    },
    {
      "cell_type": "markdown",
      "source": [
        "Matrix Y hanya akan diubah menjadi numerik (0, 1, dan\n",
        "seterusnya) dengan LabelEncoder"
      ],
      "metadata": {
        "id": "hCo2wuKk93Jc"
      }
    },
    {
      "cell_type": "code",
      "source": [
        "print(y)"
      ],
      "metadata": {
        "colab": {
          "base_uri": "https://localhost:8080/"
        },
        "id": "qLkMLTqK5zFE",
        "outputId": "5d83ab52-4f5a-47ec-bd49-3f1d07b025bc"
      },
      "execution_count": null,
      "outputs": [
        {
          "output_type": "stream",
          "name": "stdout",
          "text": [
            "[11100 22202 33274 ... 52213 52214 52215]\n"
          ]
        }
      ]
    },
    {
      "cell_type": "code",
      "source": [
        "from sklearn.model_selection import train_test_split\n",
        "y_train, y_test = train_test_split(y, test_size = 0.2, random_state = 1)"
      ],
      "metadata": {
        "id": "au3w5-dr580X"
      },
      "execution_count": null,
      "outputs": []
    },
    {
      "cell_type": "markdown",
      "source": [
        "test_size : proporsi test set, dalam hal ini 0.2.\n",
        "• train_size: proporsi train size. Jika tidak di set, maka\n",
        "akan menyesuaikan dengan test size (dalam kasus ini\n",
        "0.8). Berlaku kebalikannya.\n",
        "• random_state : konstan ini akan membuat hasil splitting\n",
        "tetap sama antar runtime atau antar mesin. Nilai bebas."
      ],
      "metadata": {
        "id": "gh7jdmDD97jc"
      }
    },
    {
      "cell_type": "code",
      "source": [
        "print(y_train)"
      ],
      "metadata": {
        "colab": {
          "base_uri": "https://localhost:8080/"
        },
        "id": "2EcndRKL77P0",
        "outputId": "72f7da33-c25e-4f7c-ee60-2cb18df09bbb"
      },
      "execution_count": null,
      "outputs": [
        {
          "output_type": "stream",
          "name": "stdout",
          "text": [
            "[56569 45830 27519 ... 46643  2430 25573]\n"
          ]
        }
      ]
    },
    {
      "cell_type": "code",
      "source": [
        "print(y_test)"
      ],
      "metadata": {
        "colab": {
          "base_uri": "https://localhost:8080/"
        },
        "id": "Qm8xCqfx8AW8",
        "outputId": "36a1b067-c493-44f0-e20c-ac3e70e736c2"
      },
      "execution_count": null,
      "outputs": [
        {
          "output_type": "stream",
          "name": "stdout",
          "text": [
            "[39989  4172 24543 ... 38300  2926 18819]\n"
          ]
        }
      ]
    },
    {
      "cell_type": "code",
      "source": [
        "from sklearn.preprocessing import StandardScaler\n",
        "sc = StandardScaler()\n",
        "y_train[:, 3:] = sc.fit_transform(y_train[:, 3:])\n",
        "y_test[:, 3:] = sc.transform(y_train[:, 3:])"
      ],
      "metadata": {
        "id": "jNQgEHSr-AVL"
      },
      "execution_count": null,
      "outputs": []
    },
    {
      "cell_type": "markdown",
      "source": [
        "Perlu dilakukan skala kolom-kolom yang\n",
        "dibutuhkan. Perbedaan skala dapat\n",
        "menyebabkan kendala dengan estimator.\n",
        "• Ada tiga scaler di library scikit-learn yang sering\n",
        "digunakan: StandardScaler, MinMaxScaler,\n",
        "dan RobustScaler.\n",
        "• StandardScaler menghilangkan mean (terpusat\n",
        "pada 0) dan menskalakan ke variansi (deviasi\n",
        "standar = 1), dengan asumsi data terdistribusi\n",
        "normal (gauss) untuk semua fitur.\n",
        "• MinMaxScaler menskalakan nilai data ke dalam\n",
        "suatu range. Tidak masalah pada data nongaussian.\n",
        "• Sedangkan RobustScaler (sklearn.preprocessing\n",
        ".RobustScaler) mirip dengan Min-Max, hanya\n",
        "saja menggunakan range interkuartil. Scaler ini\n",
        "tahan terhadap outlier."
      ],
      "metadata": {
        "id": "yCPbBkTs-qj2"
      }
    }
  ]
}